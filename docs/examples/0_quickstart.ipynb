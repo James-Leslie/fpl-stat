{
 "cells": [
  {
   "cell_type": "markdown",
   "id": "f4f9bc0c",
   "metadata": {},
   "source": [
    "# FPLstat quickstart\n",
    "This quickstart guide will help you get started with the `FPLstat` package for loading and transforming Fantasy Premier League (FPL) data.\n",
    "\n",
    "## 1. The `FPLstat` client\n",
    "The main entry point for using the `FPLstat` package is the `FPLstat` class."
   ]
  },
  {
   "cell_type": "code",
   "execution_count": 2,
   "id": "ca634e28",
   "metadata": {},
   "outputs": [],
   "source": [
    "from fplstat import FPLstat\n",
    "from pprint import pprint\n",
    "\n",
    "client = FPLstat()"
   ]
  },
  {
   "cell_type": "markdown",
   "id": "1bff3f7e",
   "metadata": {},
   "source": [
    "### `bootstrap-static`\n",
    "This is the main endpoint, which returns a nested JSON object containing the data for players, positions and teams."
   ]
  },
  {
   "cell_type": "code",
   "execution_count": null,
   "id": "e2a0230e",
   "metadata": {},
   "outputs": [
    {
     "name": "stdout",
     "output_type": "stream",
     "text": [
      "{ 'chips': [...],\n",
      "  'element_stats': [...],\n",
      "  'element_types': [...],\n",
      "  'elements': [...],\n",
      "  'events': [...],\n",
      "  'game_config': {...},\n",
      "  'game_settings': {...},\n",
      "  'phases': [...],\n",
      "  'teams': [...],\n",
      "  'total_players': 11696120}\n"
     ]
    }
   ],
   "source": [
    "# get the bootstrap data\n",
    "data = client.get_bootstrap()\n",
    "\n",
    "# show the top-level keys\n",
    "pprint(data, indent=2, depth=1, compact=True)"
   ]
  },
  {
   "cell_type": "markdown",
   "id": "d18b481c",
   "metadata": {},
   "source": [
    "### `elements`\n",
    "This endpoint returns a list of all players in the game, along with their stats and other information"
   ]
  },
  {
   "cell_type": "code",
   "execution_count": 8,
   "id": "3a24d213",
   "metadata": {},
   "outputs": [
    {
     "name": "stdout",
     "output_type": "stream",
     "text": [
      "{'assists': 0,\n",
      " 'birth_date': '1995-09-15',\n",
      " 'bonus': 3,\n",
      " 'bps': 78,\n",
      " 'can_select': True,\n",
      " 'can_transact': True,\n",
      " 'chance_of_playing_next_round': None,\n",
      " 'chance_of_playing_this_round': None,\n",
      " 'clean_sheets': 2,\n",
      " 'clean_sheets_per_90': 0.67,\n",
      " 'clearances_blocks_interceptions': 1,\n",
      " 'code': 154561,\n",
      " 'corners_and_indirect_freekicks_order': None,\n",
      " 'corners_and_indirect_freekicks_text': '',\n",
      " 'cost_change_event': 0,\n",
      " 'cost_change_event_fall': 0,\n",
      " 'cost_change_start': 0,\n",
      " 'cost_change_start_fall': 0,\n",
      " 'creativity': '10.0',\n",
      " 'creativity_rank': 218,\n",
      " 'creativity_rank_type': 5,\n",
      " 'defensive_contribution': 0,\n",
      " 'defensive_contribution_per_90': 0.0,\n",
      " 'direct_freekicks_order': None,\n",
      " 'direct_freekicks_text': '',\n",
      " 'dreamteam_count': 1,\n",
      " 'element_type': 1,\n",
      " 'ep_next': '6.5',\n",
      " 'ep_this': '5.5',\n",
      " 'event_points': 2,\n",
      " 'expected_assists': '0.02',\n",
      " 'expected_assists_per_90': 0.01,\n",
      " 'expected_goal_involvements': '0.02',\n",
      " 'expected_goal_involvements_per_90': 0.01,\n",
      " 'expected_goals': '0.00',\n",
      " 'expected_goals_conceded': '2.21',\n",
      " 'expected_goals_conceded_per_90': 0.74,\n",
      " 'expected_goals_per_90': 0.0,\n",
      " 'first_name': 'David',\n",
      " 'form': '6.0',\n",
      " 'form_rank': 25,\n",
      " 'form_rank_type': 4,\n",
      " 'goals_conceded': 1,\n",
      " 'goals_conceded_per_90': 0.33,\n",
      " 'goals_scored': 0,\n",
      " 'has_temporary_code': False,\n",
      " 'ict_index': '9.2',\n",
      " 'ict_index_rank': 110,\n",
      " 'ict_index_rank_type': 3,\n",
      " 'id': 1,\n",
      " 'in_dreamteam': False,\n",
      " 'influence': '82.6',\n",
      " 'influence_rank': 29,\n",
      " 'influence_rank_type': 4,\n",
      " 'minutes': 270,\n",
      " 'news': '',\n",
      " 'news_added': None,\n",
      " 'now_cost': 55,\n",
      " 'now_cost_rank': 137,\n",
      " 'now_cost_rank_type': 3,\n",
      " 'opta_code': 'p154561',\n",
      " 'own_goals': 0,\n",
      " 'penalties_missed': 0,\n",
      " 'penalties_order': None,\n",
      " 'penalties_saved': 0,\n",
      " 'penalties_text': '',\n",
      " 'photo': '154561.jpg',\n",
      " 'points_per_game': '6.0',\n",
      " 'points_per_game_rank': 33,\n",
      " 'points_per_game_rank_type': 4,\n",
      " 'recoveries': 28,\n",
      " 'red_cards': 0,\n",
      " 'region': 200,\n",
      " 'removed': False,\n",
      " 'saves': 10,\n",
      " 'saves_per_90': 3.33,\n",
      " 'second_name': 'Raya Martín',\n",
      " 'selected_by_percent': '23.6',\n",
      " 'selected_rank': 15,\n",
      " 'selected_rank_type': 3,\n",
      " 'special': False,\n",
      " 'squad_number': None,\n",
      " 'starts': 3,\n",
      " 'starts_per_90': 1.0,\n",
      " 'status': 'a',\n",
      " 'tackles': 0,\n",
      " 'team': 1,\n",
      " 'team_code': 3,\n",
      " 'team_join_date': '2024-07-04',\n",
      " 'threat': '0.0',\n",
      " 'threat_rank': 694,\n",
      " 'threat_rank_type': 85,\n",
      " 'total_points': 18,\n",
      " 'transfers_in': 704686,\n",
      " 'transfers_in_event': 280608,\n",
      " 'transfers_out': 333037,\n",
      " 'transfers_out_event': 115307,\n",
      " 'value_form': '1.1',\n",
      " 'value_season': '3.3',\n",
      " 'web_name': 'Raya',\n",
      " 'yellow_cards': 1}\n"
     ]
    }
   ],
   "source": [
    "# get the players data\n",
    "players = client.get_elements()\n",
    "\n",
    "# show the infromration for the first player\n",
    "pprint(players[0])"
   ]
  }
 ],
 "metadata": {
  "kernelspec": {
   "display_name": "fpl-stat (3.13.5)",
   "language": "python",
   "name": "python3"
  },
  "language_info": {
   "codemirror_mode": {
    "name": "ipython",
    "version": 3
   },
   "file_extension": ".py",
   "mimetype": "text/x-python",
   "name": "python",
   "nbconvert_exporter": "python",
   "pygments_lexer": "ipython3",
   "version": "3.13.5"
  }
 },
 "nbformat": 4,
 "nbformat_minor": 5
}
